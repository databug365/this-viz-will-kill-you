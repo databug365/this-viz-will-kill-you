{
 "cells": [
  {
   "cell_type": "code",
   "execution_count": 1,
   "metadata": {},
   "outputs": [],
   "source": [
    "import os\n",
    "import pandas as pd\n",
    "import numpy as np\n",
    "from docx import Document"
   ]
  },
  {
   "cell_type": "code",
   "execution_count": 2,
   "metadata": {},
   "outputs": [
    {
     "name": "stdout",
     "output_type": "stream",
     "text": [
      "['TPWKY-Episode-95-Tetanus.docx', 'TPWKY-Bonus-Episode-Ed-Yong.docx', 'TPWKY-Episode-88-Endometriosis.docx', 'TPWKY-Episode-119-Marburg-Virus.docx', 'TPWKY-Episode-61-Typhoid.docx']\n"
     ]
    }
   ],
   "source": [
    "# list all .docx files in the transcripts data directory\n",
    "transcript_files = [f for f in os.listdir(\"/Users/databug/grimoire/this-viz-will-kill-you/data/raw/transcripts\") if f.endswith(\".docx\")]\n",
    "\n",
    "# check output\n",
    "print(transcript_files[:5])"
   ]
  },
  {
   "cell_type": "code",
   "execution_count": 3,
   "metadata": {},
   "outputs": [
    {
     "data": {
      "text/html": [
       "<div>\n",
       "<style scoped>\n",
       "    .dataframe tbody tr th:only-of-type {\n",
       "        vertical-align: middle;\n",
       "    }\n",
       "\n",
       "    .dataframe tbody tr th {\n",
       "        vertical-align: top;\n",
       "    }\n",
       "\n",
       "    .dataframe thead th {\n",
       "        text-align: right;\n",
       "    }\n",
       "</style>\n",
       "<table border=\"1\" class=\"dataframe\">\n",
       "  <thead>\n",
       "    <tr style=\"text-align: right;\">\n",
       "      <th></th>\n",
       "      <th>episode_id</th>\n",
       "      <th>episode_name</th>\n",
       "      <th>speaker</th>\n",
       "      <th>text</th>\n",
       "    </tr>\n",
       "  </thead>\n",
       "  <tbody>\n",
       "    <tr>\n",
       "      <th>0</th>\n",
       "      <td>1</td>\n",
       "      <td>TPWKY-Episode-95-Tetanus</td>\n",
       "      <td>Erin Welsh</td>\n",
       "      <td>Hey everyone. We're including a content warnin...</td>\n",
       "    </tr>\n",
       "    <tr>\n",
       "      <th>1</th>\n",
       "      <td>1</td>\n",
       "      <td>TPWKY-Episode-95-Tetanus</td>\n",
       "      <td>Erin Allmann Updyke</td>\n",
       "      <td>\"Mrs. Cyril, Orchard Street, age 24 was delive...</td>\n",
       "    </tr>\n",
       "    <tr>\n",
       "      <th>2</th>\n",
       "      <td>1</td>\n",
       "      <td>TPWKY-Episode-95-Tetanus</td>\n",
       "      <td></td>\n",
       "      <td>The wrinkled forehead, the elevated brow, the ...</td>\n",
       "    </tr>\n",
       "    <tr>\n",
       "      <th>3</th>\n",
       "      <td>1</td>\n",
       "      <td>TPWKY-Episode-95-Tetanus</td>\n",
       "      <td></td>\n",
       "      <td>The paroxysm was renewed by a slight noise, th...</td>\n",
       "    </tr>\n",
       "    <tr>\n",
       "      <th>4</th>\n",
       "      <td>1</td>\n",
       "      <td>TPWKY-Episode-95-Tetanus</td>\n",
       "      <td>TPWKY</td>\n",
       "      <td>(This Podcast Will Kill You intro theme)</td>\n",
       "    </tr>\n",
       "  </tbody>\n",
       "</table>\n",
       "</div>"
      ],
      "text/plain": [
       "   episode_id              episode_name              speaker  \\\n",
       "0           1  TPWKY-Episode-95-Tetanus           Erin Welsh   \n",
       "1           1  TPWKY-Episode-95-Tetanus  Erin Allmann Updyke   \n",
       "2           1  TPWKY-Episode-95-Tetanus                        \n",
       "3           1  TPWKY-Episode-95-Tetanus                        \n",
       "4           1  TPWKY-Episode-95-Tetanus                TPWKY   \n",
       "\n",
       "                                                text  \n",
       "0  Hey everyone. We're including a content warnin...  \n",
       "1  \"Mrs. Cyril, Orchard Street, age 24 was delive...  \n",
       "2  The wrinkled forehead, the elevated brow, the ...  \n",
       "3  The paroxysm was renewed by a slight noise, th...  \n",
       "4           (This Podcast Will Kill You intro theme)  "
      ]
     },
     "metadata": {},
     "output_type": "display_data"
    }
   ],
   "source": [
    "# change the directory to find the files\n",
    "os.chdir('/Users/databug/grimoire/this-viz-will-kill-you/data/raw/transcripts')\n",
    "\n",
    "# initialize empty lists to hold data\n",
    "dfs = []\n",
    "\n",
    "# loop through the files\n",
    "for idx, file in enumerate(transcript_files):\n",
    "    episode_id = idx + 1 # episode ID\n",
    "    episode_name = file[:-5] # episode name, remove .docx\n",
    "    # read the transcript\n",
    "    doc = Document(file)\n",
    "    transcript = []\n",
    "    for table in doc.tables:\n",
    "        for row in table.rows:\n",
    "            speaker = row.cells[0].text\n",
    "            text = row.cells[-1].text\n",
    "            transcript_dict = {\n",
    "                \"speaker\": speaker,\n",
    "                \"text\": text\n",
    "            }\n",
    "            transcript.append(transcript_dict)\n",
    "\n",
    "    temp_df = pd.DataFrame(transcript)\n",
    "    # Add episode_id and episode_name to the DataFrame\n",
    "    temp_df['episode_id'] = episode_id\n",
    "    temp_df['episode_name'] = episode_name\n",
    "    \n",
    "    dfs.append(temp_df[['episode_id', 'episode_name', 'speaker', 'text']])\n",
    "\n",
    "transcript_df = pd.concat(dfs, ignore_index=True)\n",
    "transcript_df[\"text\"] = transcript_df[\"text\"].replace('', np.nan, regex=True)\n",
    "transcript_df.dropna(subset=[\"text\"], inplace=True)\n",
    "transcript_df.reset_index(drop=True, inplace=True)\n",
    "\n",
    "# check output\n",
    "display(transcript_df.head())"
   ]
  },
  {
   "cell_type": "code",
   "execution_count": 4,
   "metadata": {},
   "outputs": [
    {
     "name": "stdout",
     "output_type": "stream",
     "text": [
      "(63307, 4)\n"
     ]
    },
    {
     "data": {
      "text/plain": [
       "array([  1,   2,   3,   4,   5,   6,   7,   8,   9,  10,  11,  12,  13,\n",
       "        14,  15,  16,  17,  18,  19,  20,  21,  22,  23,  24,  25,  26,\n",
       "        27,  28,  29,  30,  31,  32,  33,  34,  35,  36,  37,  38,  39,\n",
       "        40,  41,  42,  43,  44,  45,  46,  47,  48,  49,  50,  51,  52,\n",
       "        53,  54,  55,  56,  57,  58,  59,  60,  61,  62,  63,  64,  65,\n",
       "        66,  67,  68,  69,  70,  71,  72,  73,  74,  75,  76,  77,  78,\n",
       "        79,  80,  81,  82,  83,  84,  85,  86,  87,  88,  89,  90,  91,\n",
       "        92,  93,  94,  95,  96,  97,  98,  99, 100, 101, 102, 103, 104,\n",
       "       105, 106, 107, 108, 109, 110, 111, 112, 113, 114, 115, 116, 117,\n",
       "       118, 119, 120, 121, 122, 123, 124, 125, 126, 127, 128, 129, 130,\n",
       "       131, 132, 133, 134, 135, 136, 137, 138, 139, 140, 141, 142, 143,\n",
       "       144, 145, 146, 147, 148, 149, 150, 151, 152, 153, 154, 155, 156,\n",
       "       157, 158, 159, 160, 161, 162, 163, 164, 165])"
      ]
     },
     "metadata": {},
     "output_type": "display_data"
    },
    {
     "data": {
      "text/html": [
       "<div>\n",
       "<style scoped>\n",
       "    .dataframe tbody tr th:only-of-type {\n",
       "        vertical-align: middle;\n",
       "    }\n",
       "\n",
       "    .dataframe tbody tr th {\n",
       "        vertical-align: top;\n",
       "    }\n",
       "\n",
       "    .dataframe thead th {\n",
       "        text-align: right;\n",
       "    }\n",
       "</style>\n",
       "<table border=\"1\" class=\"dataframe\">\n",
       "  <thead>\n",
       "    <tr style=\"text-align: right;\">\n",
       "      <th></th>\n",
       "      <th>episode_id</th>\n",
       "      <th>episode_name</th>\n",
       "      <th>speaker</th>\n",
       "      <th>text</th>\n",
       "    </tr>\n",
       "  </thead>\n",
       "  <tbody>\n",
       "    <tr>\n",
       "      <th>0</th>\n",
       "      <td>1</td>\n",
       "      <td>TPWKY-Episode-95-Tetanus</td>\n",
       "      <td>Erin Welsh</td>\n",
       "      <td>Hey everyone. We're including a content warnin...</td>\n",
       "    </tr>\n",
       "    <tr>\n",
       "      <th>1</th>\n",
       "      <td>1</td>\n",
       "      <td>TPWKY-Episode-95-Tetanus</td>\n",
       "      <td>Erin Allmann Updyke</td>\n",
       "      <td>\"Mrs. Cyril, Orchard Street, age 24 was delive...</td>\n",
       "    </tr>\n",
       "    <tr>\n",
       "      <th>2</th>\n",
       "      <td>1</td>\n",
       "      <td>TPWKY-Episode-95-Tetanus</td>\n",
       "      <td></td>\n",
       "      <td>The wrinkled forehead, the elevated brow, the ...</td>\n",
       "    </tr>\n",
       "    <tr>\n",
       "      <th>3</th>\n",
       "      <td>1</td>\n",
       "      <td>TPWKY-Episode-95-Tetanus</td>\n",
       "      <td></td>\n",
       "      <td>The paroxysm was renewed by a slight noise, th...</td>\n",
       "    </tr>\n",
       "    <tr>\n",
       "      <th>4</th>\n",
       "      <td>1</td>\n",
       "      <td>TPWKY-Episode-95-Tetanus</td>\n",
       "      <td>TPWKY</td>\n",
       "      <td>(This Podcast Will Kill You intro theme)</td>\n",
       "    </tr>\n",
       "  </tbody>\n",
       "</table>\n",
       "</div>"
      ],
      "text/plain": [
       "   episode_id              episode_name              speaker  \\\n",
       "0           1  TPWKY-Episode-95-Tetanus           Erin Welsh   \n",
       "1           1  TPWKY-Episode-95-Tetanus  Erin Allmann Updyke   \n",
       "2           1  TPWKY-Episode-95-Tetanus                        \n",
       "3           1  TPWKY-Episode-95-Tetanus                        \n",
       "4           1  TPWKY-Episode-95-Tetanus                TPWKY   \n",
       "\n",
       "                                                text  \n",
       "0  Hey everyone. We're including a content warnin...  \n",
       "1  \"Mrs. Cyril, Orchard Street, age 24 was delive...  \n",
       "2  The wrinkled forehead, the elevated brow, the ...  \n",
       "3  The paroxysm was renewed by a slight noise, th...  \n",
       "4           (This Podcast Will Kill You intro theme)  "
      ]
     },
     "metadata": {},
     "output_type": "display_data"
    }
   ],
   "source": [
    "# get shape and check values for validation purposes\n",
    "print(transcript_df.shape)\n",
    "display(transcript_df[\"episode_id\"].unique())\n",
    "display(transcript_df.head())"
   ]
  },
  {
   "cell_type": "code",
   "execution_count": 5,
   "metadata": {},
   "outputs": [],
   "source": [
    "# save to raw data folder\n",
    "transcript_df.to_parquet(\"/Users/databug/grimoire/this-viz-will-kill-you/data/raw/transcript_df.parquet\")"
   ]
  }
 ],
 "metadata": {
  "kernelspec": {
   "display_name": "this-viz-will-kill-you-udC4xoTa-py3.11",
   "language": "python",
   "name": "python3"
  },
  "language_info": {
   "codemirror_mode": {
    "name": "ipython",
    "version": 3
   },
   "file_extension": ".py",
   "mimetype": "text/x-python",
   "name": "python",
   "nbconvert_exporter": "python",
   "pygments_lexer": "ipython3",
   "version": "3.11.6"
  }
 },
 "nbformat": 4,
 "nbformat_minor": 2
}
